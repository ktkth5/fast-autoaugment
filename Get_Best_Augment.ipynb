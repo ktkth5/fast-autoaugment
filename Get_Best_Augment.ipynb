{
 "cells": [
  {
   "cell_type": "code",
   "execution_count": 1,
   "metadata": {},
   "outputs": [],
   "source": [
    "import os\n",
    "import glob\n",
    "import json"
   ]
  },
  {
   "cell_type": "code",
   "execution_count": 7,
   "metadata": {},
   "outputs": [
    {
     "name": "stdout",
     "output_type": "stream",
     "text": [
      "TrainCIFAR\r\n"
     ]
    }
   ],
   "source": [
    "!ls ~/ray_results"
   ]
  },
  {
   "cell_type": "code",
   "execution_count": 35,
   "metadata": {
    "scrolled": false
   },
   "outputs": [],
   "source": [
    "log_dirs = glob.glob(\"/home/ubuntu/ray_results/TrainCIFAR/**/result.json\")"
   ]
  },
  {
   "cell_type": "code",
   "execution_count": 36,
   "metadata": {},
   "outputs": [
    {
     "data": {
      "text/plain": [
       "50"
      ]
     },
     "execution_count": 36,
     "metadata": {},
     "output_type": "execute_result"
    }
   ],
   "source": [
    "len(log_dirs)"
   ]
  },
  {
   "cell_type": "code",
   "execution_count": 39,
   "metadata": {},
   "outputs": [
    {
     "data": {
      "text/plain": [
       "{'mean_accuracy': 53.25,\n",
       " 'mean_loss': 1.8420522488080537,\n",
       " 'done': True,\n",
       " 'timesteps_total': None,\n",
       " 'episodes_total': None,\n",
       " 'training_iteration': 1,\n",
       " 'neg_mean_loss': -1.8420522488080537,\n",
       " 'experiment_id': '1e2cef0ee1da4170ac638d0713c263a2',\n",
       " 'date': '2019-07-03_05-20-45',\n",
       " 'timestamp': 1562131245,\n",
       " 'time_this_iter_s': 0.6450636386871338,\n",
       " 'time_total_s': 0.6450636386871338,\n",
       " 'pid': 22202,\n",
       " 'hostname': 'ip-172-31-4-87',\n",
       " 'node_ip': '172.31.4.87',\n",
       " 'config': {'args': \"Namespace(B=5, T=2, aws=True, batch_size=64, cpu=8, device=device(type='cuda'), epochs=50, gpu=1, lr=0.01, max_concurrent=100, num_samples=10, pass_train=False, pin_memory=False, verbose=1, workers=1)\",\n",
       "  'dataloader': '<torch.utils.data.dataloader.DataLoader object at 0x7fe2bc61da58>',\n",
       "  'aug1': 'TranslateX',\n",
       "  'aug2': 'Posterize',\n",
       "  'iteration': 1,\n",
       "  'p1': 0.3888560098886238,\n",
       "  'p2': 0.516654603519071,\n",
       "  'value1': 0.05684605370413787,\n",
       "  'value2': 0.056281124242454905},\n",
       " 'time_since_restore': 0.6450636386871338,\n",
       " 'timesteps_since_restore': 0,\n",
       " 'iterations_since_restore': 1}"
      ]
     },
     "execution_count": 39,
     "metadata": {},
     "output_type": "execute_result"
    }
   ],
   "source": [
    "json.load(open(log_dirs[0], \"rb\"))"
   ]
  },
  {
   "cell_type": "code",
   "execution_count": 43,
   "metadata": {},
   "outputs": [],
   "source": [
    "augs = []\n",
    "augs_acc = []\n",
    "\n",
    "for log in log_dirs:\n",
    "    js = json.load(open(log, \"rb\"))\n",
    "    aug1, aug2 = js[\"config\"][\"aug1\"], js[\"config\"][\"aug2\"]\n",
    "    acc = js[\"mean_accuracy\"]\n",
    "    p1, v1 = js[\"config\"][\"p1\"],  js[\"config\"][\"value1\"]\n",
    "    p2, v2 =  js[\"config\"][\"p2\"],  js[\"config\"][\"value2\"]\n",
    "    augs.append([aug1, aug2, acc, p1, v1, p2, v2])"
   ]
  },
  {
   "cell_type": "code",
   "execution_count": 47,
   "metadata": {},
   "outputs": [
    {
     "name": "stdout",
     "output_type": "stream",
     "text": [
      "['TranslateX', 'Posterize']\n",
      "['Contrast', 'TranslateX']\n",
      "['Contrast', 'Posterize2']\n",
      "['AutoContrast', 'Cutout']\n",
      "['Equalize', 'TranslateXAbs']\n"
     ]
    }
   ],
   "source": [
    "unique_augs = []\n",
    "\n",
    "for aug in augs:\n",
    "    aug = aug[:2]\n",
    "    if aug not in unique_augs:\n",
    "        unique_augs.append(aug)\n",
    "        print(aug)"
   ]
  },
  {
   "cell_type": "code",
   "execution_count": 56,
   "metadata": {},
   "outputs": [
    {
     "data": {
      "text/plain": [
       "[['TranslateX',\n",
       "  'Posterize',\n",
       "  61.375,\n",
       "  0.304410946732811,\n",
       "  0.5429504726467441,\n",
       "  0.7995686244834382,\n",
       "  0.5001386124633549],\n",
       " ['Contrast',\n",
       "  'TranslateX',\n",
       "  40.0,\n",
       "  0.4081285951800262,\n",
       "  0.07825589355358276,\n",
       "  0.8201867058738257,\n",
       "  0.7747877796412126],\n",
       " ['Contrast',\n",
       "  'Posterize2',\n",
       "  40.375,\n",
       "  0.5768923620006201,\n",
       "  0.9354751914670009,\n",
       "  0.5006016479028436,\n",
       "  0.3267889257032942],\n",
       " ['AutoContrast',\n",
       "  'Cutout',\n",
       "  59.25,\n",
       "  0.9596706436423124,\n",
       "  0.7296541342659686,\n",
       "  0.8289280518567272,\n",
       "  0.7900111705414411],\n",
       " ['Equalize',\n",
       "  'TranslateXAbs',\n",
       "  52.5,\n",
       "  0.5680865750336034,\n",
       "  0.8418029226290409,\n",
       "  0.8583137034462556,\n",
       "  0.10639741972307082]]"
      ]
     },
     "execution_count": 56,
     "metadata": {},
     "output_type": "execute_result"
    }
   ],
   "source": [
    "best_params_each_aug = []\n",
    "\n",
    "for aug in unique_augs:\n",
    "    best_acc = 0\n",
    "    for result in augs:\n",
    "        if not aug == result[:2]:\n",
    "            continue\n",
    "        if best_acc < result[2]:\n",
    "            best_param = result\n",
    "    best_params_each_aug.append(best_param)\n",
    "best_params_each_aug"
   ]
  },
  {
   "cell_type": "code",
   "execution_count": 59,
   "metadata": {},
   "outputs": [
    {
     "data": {
      "text/plain": [
       "[['TranslateX',\n",
       "  'Posterize',\n",
       "  61.375,\n",
       "  0.304410946732811,\n",
       "  0.5429504726467441,\n",
       "  0.7995686244834382,\n",
       "  0.5001386124633549],\n",
       " ['AutoContrast',\n",
       "  'Cutout',\n",
       "  59.25,\n",
       "  0.9596706436423124,\n",
       "  0.7296541342659686,\n",
       "  0.8289280518567272,\n",
       "  0.7900111705414411],\n",
       " ['Equalize',\n",
       "  'TranslateXAbs',\n",
       "  52.5,\n",
       "  0.5680865750336034,\n",
       "  0.8418029226290409,\n",
       "  0.8583137034462556,\n",
       "  0.10639741972307082]]"
      ]
     },
     "execution_count": 59,
     "metadata": {},
     "output_type": "execute_result"
    }
   ],
   "source": [
    "# Print Top K\n",
    "\n",
    "K = 3\n",
    "sorted(best_params_each_aug, key=lambda x:float(x[2]), reverse=True)[:3]"
   ]
  },
  {
   "cell_type": "code",
   "execution_count": null,
   "metadata": {},
   "outputs": [],
   "source": []
  }
 ],
 "metadata": {
  "kernelspec": {
   "display_name": "Python 3",
   "language": "python",
   "name": "python3"
  },
  "language_info": {
   "codemirror_mode": {
    "name": "ipython",
    "version": 3
   },
   "file_extension": ".py",
   "mimetype": "text/x-python",
   "name": "python",
   "nbconvert_exporter": "python",
   "pygments_lexer": "ipython3",
   "version": "3.6.5"
  }
 },
 "nbformat": 4,
 "nbformat_minor": 2
}
